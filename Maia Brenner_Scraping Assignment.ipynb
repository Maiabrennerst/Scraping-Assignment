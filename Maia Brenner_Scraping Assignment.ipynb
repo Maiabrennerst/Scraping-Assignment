{
 "cells": [
  {
   "cell_type": "markdown",
   "metadata": {},
   "source": [
    "# Scraping Project"
   ]
  },
  {
   "cell_type": "markdown",
   "metadata": {},
   "source": [
    "The aim of this project is to build a database of items on sale on an online store in order to have relevant data when publishing future items. In this case, I am interested in selling my car therefore I will be scraping the \"peugeot 207\" webpage but the same code could be used for other items making slight changes."
   ]
  },
  {
   "cell_type": "code",
   "execution_count": 271,
   "metadata": {},
   "outputs": [],
   "source": [
    "from bs4 import BeautifulSoup\n",
    "import requests\n",
    "from requests import get\n",
    "import time \n",
    "import pandas as pd\n",
    "from concurrent.futures import ThreadPoolExecutor\n",
    "from random import randint\n",
    "from time import sleep\n",
    "from concurrent.futures import Future"
   ]
  },
  {
   "cell_type": "code",
   "execution_count": 272,
   "metadata": {},
   "outputs": [],
   "source": [
    "#####The webpage and the product to scrape are determined#####\n",
    "url= \"https://listado.mercadolibre.com.uy/peugeot-207\"\n",
    "response = get(url)\n",
    "html_soup = BeautifulSoup(response.text, 'html.parser')"
   ]
  },
  {
   "cell_type": "code",
   "execution_count": 273,
   "metadata": {},
   "outputs": [],
   "source": [
    "#I first create a function that gets a list of all the different url pages by following the \"next page bottom\"\n",
    "def get_all_urls(url):    \n",
    "    \n",
    "    ##initialize this for the while statement\n",
    "    last_page = False\n",
    "    \n",
    "    #put the first url in the list b/c while loop only gets next url\n",
    "    url_page_list = [url]\n",
    "\n",
    "    while last_page == False:\n",
    "        \n",
    "        ##starts with first page, then grabs \"next page\" url and turns it into a soup item\n",
    "        inner_response = requests.get(url)\n",
    "        inner_soup = BeautifulSoup(inner_response.text, 'html.parser')\n",
    "\n",
    "        #checks where there exists a \"next page\" text button. if not, last page = true\n",
    "        if inner_soup.select(\".andes-pagination__button--next > a\") == []:\n",
    "            last_page = True\n",
    "            break\n",
    "    \n",
    "        ##grabs the href and append it to the url_pag_list\n",
    "        url_page_list.append(inner_soup.select(\".andes-pagination__button--next > a\")[0]['href'])\n",
    "    \n",
    "        ##turns the url being passed through the while loop to the next url\n",
    "        url = inner_soup.select(\".andes-pagination__button--next > a\")[0]['href'] \n",
    "        \n",
    "    return(url_page_list)"
   ]
  },
  {
   "cell_type": "code",
   "execution_count": 274,
   "metadata": {},
   "outputs": [],
   "source": [
    "#I call the function for the first URL\n",
    "url_page_list=get_all_urls(url)"
   ]
  },
  {
   "cell_type": "code",
   "execution_count": 275,
   "metadata": {},
   "outputs": [],
   "source": [
    "##Then for each page we need to get the link that corresponds to the item in this case the link that corresponds to the car\n",
    "\n",
    "def get_car_links(url_page_list):\n",
    "    link_list=[]\n",
    "    for url in url_page_list:\n",
    "        response = get(url)\n",
    "        html_soup = BeautifulSoup(response.text, 'html.parser')\n",
    "    \n",
    "        for url in html_soup.find_all('a', attrs = {'class': \"item__info-link item__js-link \"}):\n",
    "            link_list.append(url.get('href'))\n",
    "            \n",
    "    return(link_list)"
   ]
  },
  {
   "cell_type": "code",
   "execution_count": 276,
   "metadata": {},
   "outputs": [],
   "source": [
    "link_list=get_car_links(url_page_list)"
   ]
  },
  {
   "cell_type": "code",
   "execution_count": 277,
   "metadata": {},
   "outputs": [
    {
     "name": "stdout",
     "output_type": "stream",
     "text": [
      "231\n"
     ]
    }
   ],
   "source": [
    "##I check how many car links have been found\n",
    "print(len(link_list))"
   ]
  },
  {
   "cell_type": "code",
   "execution_count": 278,
   "metadata": {},
   "outputs": [],
   "source": [
    "##I will get from each car's webpage the attributes of interest\n",
    "\n",
    "def get_attributes(link_list) :\n",
    "#First I create empty lists to store the attributes of interest of each car on sale\n",
    "    years=[]\n",
    "    kms=[]\n",
    "    brands=[]\n",
    "    models=[]\n",
    "    versions=[]\n",
    "    types=[]\n",
    "    motors=[]\n",
    "    powers=[]\n",
    "    descriptions=[]\n",
    "    titles=[]\n",
    "    prices=[]\n",
    "    urls=[]\n",
    "\n",
    "\n",
    "    for url in link_list:\n",
    "    \n",
    "        response = get(url)\n",
    "        html_soup = BeautifulSoup(response.text, 'html.parser')\n",
    "    \n",
    "        ##TITLE OF ARTICLE\n",
    "        main_section=html_soup.find_all('h1')\n",
    "        title=main_section[0].text\n",
    "        titles.append(title)\n",
    "    \n",
    "        ##PRICE OF ARTICE\n",
    "    \n",
    "        price=html_soup.find_all('span', class_=\"price-tag-fraction\")\n",
    "        price=price[0].text\n",
    "        prices.append(price)\n",
    "\n",
    "    \n",
    "        ##DETAILS                 \n",
    "        detail_containers = html_soup.find_all('li', class_=\"specs-item\")\n",
    "\n",
    "        # The detail value \n",
    "        year=detail_containers[0].span.text\n",
    "        years.append(year)\n",
    "    \n",
    "        km=detail_containers[1].span.text\n",
    "        kms.append(km)\n",
    "    \n",
    "        brand=detail_containers[2].span.text\n",
    "        brands.append(brand)\n",
    "    \n",
    "        model=detail_containers[3].span.text\n",
    "        models.append(model)\n",
    "    \n",
    "        version=detail_containers[4].span.text\n",
    "        versions.append(version)\n",
    "    \n",
    "        tipo=detail_containers[5].span.text\n",
    "        types.append(tipo)\n",
    "    \n",
    "        motor=detail_containers[6].span.text\n",
    "        motors.append(motor)\n",
    "    \n",
    "        power=detail_containers[7].span.text\n",
    "        powers.append(power)\n",
    "    \n",
    "        urls.append(url)\n",
    "    \n",
    "        #DESCRIPTION\n",
    "        if html_soup.find_all('div', class_=\"item-description__text\") != []:\n",
    "            container=html_soup.find_all('div', class_=\"item-description__text\")\n",
    "            description=container[0].text\n",
    "        \n",
    "        else: \n",
    "            description=\"/n\"\n",
    "    \n",
    "        descriptions.append(description)\n",
    "        \n",
    "        ###I create a data frame with all the lists I have created on the scraping procedure\n",
    "        \n",
    "        test_cars = pd.DataFrame({'Car Title':titles,\n",
    "                          'Year': years,\n",
    "                          'Price': prices,\n",
    "                        \"Km\" : kms,\n",
    "                       'Brand': brands,\n",
    "                       'Model': models,\n",
    "                       \"Version\" : versions,\n",
    "                         \"Tipo\" : types,\n",
    "                         \"Motor\" : motors,\n",
    "                         \"Potencia\": powers,\n",
    "                         \"Link\" : urls,\n",
    "                         'Description': descriptions})\n",
    "    return(test_cars)\n"
   ]
  },
  {
   "cell_type": "code",
   "execution_count": 279,
   "metadata": {},
   "outputs": [],
   "source": [
    "test_cars=get_attributes(link_list)"
   ]
  },
  {
   "cell_type": "code",
   "execution_count": 280,
   "metadata": {},
   "outputs": [],
   "source": [
    "##I clean the scraped data a little bit\n",
    "test_cars['Car Title'] = test_cars['Car Title'].map(lambda x: x.lstrip('\\n\\t\\t').rstrip('\\n\\t'))\n",
    "test_cars['Description'] = test_cars['Description'].map(lambda x: x.lstrip('\\n'))\n",
    "test_cars.Price = 'US$ ' + test_cars.Price "
   ]
  },
  {
   "cell_type": "code",
   "execution_count": 281,
   "metadata": {},
   "outputs": [
    {
     "data": {
      "text/html": [
       "<div>\n",
       "<style scoped>\n",
       "    .dataframe tbody tr th:only-of-type {\n",
       "        vertical-align: middle;\n",
       "    }\n",
       "\n",
       "    .dataframe tbody tr th {\n",
       "        vertical-align: top;\n",
       "    }\n",
       "\n",
       "    .dataframe thead th {\n",
       "        text-align: right;\n",
       "    }\n",
       "</style>\n",
       "<table border=\"1\" class=\"dataframe\">\n",
       "  <thead>\n",
       "    <tr style=\"text-align: right;\">\n",
       "      <th></th>\n",
       "      <th>Car Title</th>\n",
       "      <th>Year</th>\n",
       "      <th>Price</th>\n",
       "      <th>Km</th>\n",
       "      <th>Brand</th>\n",
       "      <th>Model</th>\n",
       "      <th>Version</th>\n",
       "      <th>Tipo</th>\n",
       "      <th>Motor</th>\n",
       "      <th>Potencia</th>\n",
       "      <th>Link</th>\n",
       "      <th>Description</th>\n",
       "    </tr>\n",
       "  </thead>\n",
       "  <tbody>\n",
       "    <tr>\n",
       "      <th>0</th>\n",
       "      <td>Peugeot 207 1.6 Coupe Turbo 150 Cv</td>\n",
       "      <td>2009</td>\n",
       "      <td>US$ 30.500</td>\n",
       "      <td>69.000 km</td>\n",
       "      <td>Peugeot</td>\n",
       "      <td>207</td>\n",
       "      <td>1.6 Coupe Turbo 150 Cv</td>\n",
       "      <td>Coupé</td>\n",
       "      <td>1.6</td>\n",
       "      <td>150hp</td>\n",
       "      <td>https://auto.mercadolibre.com.uy/MLU-457540561...</td>\n",
       "      <td>2do dueño SIEMPRE ATENDIDO EN SADAR\\n</td>\n",
       "    </tr>\n",
       "  </tbody>\n",
       "</table>\n",
       "</div>"
      ],
      "text/plain": [
       "                            Car Title  Year       Price         Km    Brand  \\\n",
       "0  Peugeot 207 1.6 Coupe Turbo 150 Cv  2009  US$ 30.500  69.000 km  Peugeot   \n",
       "\n",
       "  Model                 Version   Tipo Motor Potencia  \\\n",
       "0   207  1.6 Coupe Turbo 150 Cv  Coupé   1.6    150hp   \n",
       "\n",
       "                                                Link  \\\n",
       "0  https://auto.mercadolibre.com.uy/MLU-457540561...   \n",
       "\n",
       "                             Description  \n",
       "0  2do dueño SIEMPRE ATENDIDO EN SADAR\\n  "
      ]
     },
     "execution_count": 281,
     "metadata": {},
     "output_type": "execute_result"
    }
   ],
   "source": [
    "#Check the data frame\n",
    "test_cars.head(1)"
   ]
  },
  {
   "cell_type": "code",
   "execution_count": 282,
   "metadata": {},
   "outputs": [],
   "source": [
    "##Export the scraped date to CSV\n",
    "test_cars.to_csv('Peugeot_Database.csv')"
   ]
  },
  {
   "cell_type": "code",
   "execution_count": 283,
   "metadata": {},
   "outputs": [
    {
     "name": "stdout",
     "output_type": "stream",
     "text": [
      "Process time:  160  seconds\n"
     ]
    }
   ],
   "source": [
    "###I want to make the scraping faster. Therefore I will start by monitoring the time it is taking without the threading\n",
    "import time\n",
    "# Scraping the cars data without threading\n",
    "start_time = time.time()\n",
    "\n",
    "test_cars=get_attributes(link_list)\n",
    "    \n",
    "end_time = time.time()\n",
    "\n",
    "print(\"Process time: \", round(end_time-start_time),  \" seconds\")"
   ]
  },
  {
   "cell_type": "code",
   "execution_count": 292,
   "metadata": {},
   "outputs": [],
   "source": [
    "##I now include in my function a ThreadPool in order to make the scraping process faster. I take the loop from the function and include it in the threadpool\n",
    "\n",
    "\n",
    "##I will get from each car's webpage the attributes of interest\n",
    "\n",
    "years=[]\n",
    "kms=[]\n",
    "brands=[]\n",
    "models=[]\n",
    "versions=[]\n",
    "types=[]\n",
    "motors=[]\n",
    "powers=[]\n",
    "descriptions=[]\n",
    "titles=[]\n",
    "prices=[]\n",
    "urls=[]\n",
    "\n",
    "def get_attributes2(link) :\n",
    "#First I create empty lists to store the attributes of interest of each car on sale\n",
    "\n",
    "    response = get(link)\n",
    "    html_soup = BeautifulSoup(response.text, 'html.parser')\n",
    "    \n",
    "    ##TITLE OF ARTICLE\n",
    "    main_section=html_soup.find_all('h1')\n",
    "    title=main_section[0].text\n",
    "    titles.append(title)\n",
    "    \n",
    "    ##PRICE OF ARTICE\n",
    "    \n",
    "    price=html_soup.find_all('span', class_=\"price-tag-fraction\")\n",
    "    price=price[0].text\n",
    "    prices.append(price)\n",
    "\n",
    "    \n",
    "    ##DETAILS                 \n",
    "    detail_containers = html_soup.find_all('li', class_=\"specs-item\")\n",
    "\n",
    "    # The detail value \n",
    "    year=detail_containers[0].span.text\n",
    "    years.append(year)\n",
    "    \n",
    "    km=detail_containers[1].span.text\n",
    "    kms.append(km)\n",
    "    \n",
    "    brand=detail_containers[2].span.text\n",
    "    brands.append(brand)\n",
    "    \n",
    "    model=detail_containers[3].span.text\n",
    "    models.append(model)\n",
    "\n",
    "    version=detail_containers[4].span.text\n",
    "    versions.append(version)\n",
    "    \n",
    "    tipo=detail_containers[5].span.text\n",
    "    types.append(tipo)\n",
    "    \n",
    "    motor=detail_containers[6].span.text\n",
    "    motors.append(motor)\n",
    "    \n",
    "    power=detail_containers[7].span.text\n",
    "    powers.append(power)\n",
    "    \n",
    "    urls.append(link)\n",
    "    \n",
    "    #DESCRIPTION\n",
    "    if html_soup.find_all('div', class_=\"item-description__text\") != []:\n",
    "        container=html_soup.find_all('div', class_=\"item-description__text\")\n",
    "        description=container[0].text\n",
    "        \n",
    "    else: \n",
    "        description=\"/n\"\n",
    "    \n",
    "    descriptions.append(description)\n",
    "        \n"
   ]
  },
  {
   "cell_type": "code",
   "execution_count": 293,
   "metadata": {},
   "outputs": [
    {
     "name": "stdout",
     "output_type": "stream",
     "text": [
      "Process time:  31  seconds\n"
     ]
    }
   ],
   "source": [
    "##We can check that by including the thread the time is reduced from 159 seconds to 34.7seconds\n",
    "import time\n",
    "start_time = time.time()\n",
    "\n",
    "with ThreadPoolExecutor() as pool:\n",
    "        evs = list(pool.map(get_attributes2, link_list))\n",
    "    \n",
    "end_time = time.time()\n",
    "\n",
    "print(\"Process time: \", round(end_time-start_time),  \" seconds\")"
   ]
  },
  {
   "cell_type": "code",
   "execution_count": 294,
   "metadata": {},
   "outputs": [
    {
     "name": "stdout",
     "output_type": "stream",
     "text": [
      "231\n",
      "231\n"
     ]
    }
   ],
   "source": [
    "print(len(titles))\n",
    "print(len(prices))"
   ]
  },
  {
   "cell_type": "code",
   "execution_count": 295,
   "metadata": {},
   "outputs": [],
   "source": [
    "test_cars2=[]"
   ]
  },
  {
   "cell_type": "code",
   "execution_count": 296,
   "metadata": {},
   "outputs": [],
   "source": [
    "###I create an other data frame with all the lists I have created on the scraping procedure with the thread\n",
    "test_cars2 = pd.DataFrame({'Car Title':titles,\n",
    "                          'Year': years,\n",
    "                          'Price': prices,\n",
    "                        \"Km\" : kms,\n",
    "                       'Brand': brands,\n",
    "                       'Model': models,\n",
    "                       \"Version\" : versions,\n",
    "                         \"Tipo\" : types,\n",
    "                         \"Motor\" : motors,\n",
    "                         \"Potencia\": powers,\n",
    "                         \"Link\" : urls,\n",
    "                         'Description': descriptions})"
   ]
  },
  {
   "cell_type": "code",
   "execution_count": 300,
   "metadata": {},
   "outputs": [
    {
     "data": {
      "text/html": [
       "<div>\n",
       "<style scoped>\n",
       "    .dataframe tbody tr th:only-of-type {\n",
       "        vertical-align: middle;\n",
       "    }\n",
       "\n",
       "    .dataframe tbody tr th {\n",
       "        vertical-align: top;\n",
       "    }\n",
       "\n",
       "    .dataframe thead th {\n",
       "        text-align: right;\n",
       "    }\n",
       "</style>\n",
       "<table border=\"1\" class=\"dataframe\">\n",
       "  <thead>\n",
       "    <tr style=\"text-align: right;\">\n",
       "      <th></th>\n",
       "      <th>Car Title</th>\n",
       "      <th>Year</th>\n",
       "      <th>Price</th>\n",
       "      <th>Km</th>\n",
       "      <th>Brand</th>\n",
       "      <th>Model</th>\n",
       "      <th>Version</th>\n",
       "      <th>Tipo</th>\n",
       "      <th>Motor</th>\n",
       "      <th>Potencia</th>\n",
       "      <th>Link</th>\n",
       "      <th>Description</th>\n",
       "    </tr>\n",
       "  </thead>\n",
       "  <tbody>\n",
       "    <tr>\n",
       "      <th>0</th>\n",
       "      <td>\\n\\t\\tPeugeot 207 Compact 1.4\\n\\t</td>\n",
       "      <td>2010</td>\n",
       "      <td>9.450</td>\n",
       "      <td>85.000 km</td>\n",
       "      <td>Peugeot</td>\n",
       "      <td>207</td>\n",
       "      <td>207 compact</td>\n",
       "      <td>Nafta</td>\n",
       "      <td>5</td>\n",
       "      <td></td>\n",
       "      <td>https://auto.mercadolibre.com.uy/MLU-457743368...</td>\n",
       "      <td>\\n# PEUGEOT 207 COMPACT 1.4 ## año 2010# 86mil...</td>\n",
       "    </tr>\n",
       "    <tr>\n",
       "      <th>1</th>\n",
       "      <td>\\n\\t\\tPeugeot 207 Full Frances 2013 Impecable\\n\\t</td>\n",
       "      <td>2013</td>\n",
       "      <td>10.300</td>\n",
       "      <td>100.000 km</td>\n",
       "      <td>Peugeot</td>\n",
       "      <td>207</td>\n",
       "      <td>1.4</td>\n",
       "      <td>Nafta</td>\n",
       "      <td>4</td>\n",
       "      <td></td>\n",
       "      <td>https://auto.mercadolibre.com.uy/MLU-457128661...</td>\n",
       "      <td>\\n207 frances full 2 dueños service oficiales ...</td>\n",
       "    </tr>\n",
       "  </tbody>\n",
       "</table>\n",
       "</div>"
      ],
      "text/plain": [
       "                                           Car Title  Year   Price  \\\n",
       "0                  \\n\\t\\tPeugeot 207 Compact 1.4\\n\\t  2010   9.450   \n",
       "1  \\n\\t\\tPeugeot 207 Full Frances 2013 Impecable\\n\\t  2013  10.300   \n",
       "\n",
       "           Km    Brand Model      Version   Tipo Motor Potencia  \\\n",
       "0   85.000 km  Peugeot   207  207 compact  Nafta     5            \n",
       "1  100.000 km  Peugeot   207          1.4  Nafta     4            \n",
       "\n",
       "                                                Link  \\\n",
       "0  https://auto.mercadolibre.com.uy/MLU-457743368...   \n",
       "1  https://auto.mercadolibre.com.uy/MLU-457128661...   \n",
       "\n",
       "                                         Description  \n",
       "0  \\n# PEUGEOT 207 COMPACT 1.4 ## año 2010# 86mil...  \n",
       "1  \\n207 frances full 2 dueños service oficiales ...  "
      ]
     },
     "execution_count": 300,
     "metadata": {},
     "output_type": "execute_result"
    }
   ],
   "source": [
    "test_cars2.head(2)"
   ]
  },
  {
   "cell_type": "code",
   "execution_count": 301,
   "metadata": {},
   "outputs": [
    {
     "data": {
      "text/html": [
       "<div>\n",
       "<style scoped>\n",
       "    .dataframe tbody tr th:only-of-type {\n",
       "        vertical-align: middle;\n",
       "    }\n",
       "\n",
       "    .dataframe tbody tr th {\n",
       "        vertical-align: top;\n",
       "    }\n",
       "\n",
       "    .dataframe thead th {\n",
       "        text-align: right;\n",
       "    }\n",
       "</style>\n",
       "<table border=\"1\" class=\"dataframe\">\n",
       "  <thead>\n",
       "    <tr style=\"text-align: right;\">\n",
       "      <th></th>\n",
       "      <th>Car Title</th>\n",
       "      <th>Year</th>\n",
       "      <th>Price</th>\n",
       "      <th>Km</th>\n",
       "      <th>Brand</th>\n",
       "      <th>Model</th>\n",
       "      <th>Version</th>\n",
       "      <th>Tipo</th>\n",
       "      <th>Motor</th>\n",
       "      <th>Potencia</th>\n",
       "      <th>Link</th>\n",
       "      <th>Description</th>\n",
       "    </tr>\n",
       "  </thead>\n",
       "  <tbody>\n",
       "    <tr>\n",
       "      <th>0</th>\n",
       "      <td>Peugeot 207 Compact 1.4</td>\n",
       "      <td>2010</td>\n",
       "      <td>US$ 9.450</td>\n",
       "      <td>85.000 km</td>\n",
       "      <td>Peugeot</td>\n",
       "      <td>207</td>\n",
       "      <td>207 compact</td>\n",
       "      <td>Nafta</td>\n",
       "      <td>5</td>\n",
       "      <td></td>\n",
       "      <td>https://auto.mercadolibre.com.uy/MLU-457743368...</td>\n",
       "      <td># PEUGEOT 207 COMPACT 1.4 ## año 2010# 86mil k...</td>\n",
       "    </tr>\n",
       "  </tbody>\n",
       "</table>\n",
       "</div>"
      ],
      "text/plain": [
       "                 Car Title  Year      Price         Km    Brand Model  \\\n",
       "0  Peugeot 207 Compact 1.4  2010  US$ 9.450  85.000 km  Peugeot   207   \n",
       "\n",
       "       Version   Tipo Motor Potencia  \\\n",
       "0  207 compact  Nafta     5            \n",
       "\n",
       "                                                Link  \\\n",
       "0  https://auto.mercadolibre.com.uy/MLU-457743368...   \n",
       "\n",
       "                                         Description  \n",
       "0  # PEUGEOT 207 COMPACT 1.4 ## año 2010# 86mil k...  "
      ]
     },
     "execution_count": 301,
     "metadata": {},
     "output_type": "execute_result"
    }
   ],
   "source": [
    "###We clean again the dataset for the function with the thread\n",
    "test_cars2['Car Title'] = test_cars2['Car Title'].map(lambda x: x.lstrip('\\n\\t\\t').rstrip('\\n\\t'))\n",
    "test_cars2['Description'] = test_cars2['Description'].map(lambda x: x.lstrip('\\n'))\n",
    "test_cars2.Price = 'US$ ' + test_cars2.Price \n",
    "test_cars2.head(1)"
   ]
  },
  {
   "cell_type": "code",
   "execution_count": 302,
   "metadata": {},
   "outputs": [
    {
     "data": {
      "text/plain": [
       "231"
      ]
     },
     "execution_count": 302,
     "metadata": {},
     "output_type": "execute_result"
    }
   ],
   "source": [
    "len(link_list)"
   ]
  },
  {
   "cell_type": "code",
   "execution_count": 303,
   "metadata": {},
   "outputs": [],
   "source": [
    "##I export it as a new file and check that all the list are appended in order.\n",
    "test_cars2.to_csv('Peugeot_Database_2.csv')"
   ]
  },
  {
   "cell_type": "markdown",
   "metadata": {},
   "source": [
    "#Done!!"
   ]
  }
 ],
 "metadata": {
  "kernelspec": {
   "display_name": "Python 3",
   "language": "python",
   "name": "python3"
  },
  "language_info": {
   "codemirror_mode": {
    "name": "ipython",
    "version": 3
   },
   "file_extension": ".py",
   "mimetype": "text/x-python",
   "name": "python",
   "nbconvert_exporter": "python",
   "pygments_lexer": "ipython3",
   "version": "3.6.5"
  },
  "varInspector": {
   "cols": {
    "lenName": 16,
    "lenType": 16,
    "lenVar": 40
   },
   "kernels_config": {
    "python": {
     "delete_cmd_postfix": "",
     "delete_cmd_prefix": "del ",
     "library": "var_list.py",
     "varRefreshCmd": "print(var_dic_list())"
    },
    "r": {
     "delete_cmd_postfix": ") ",
     "delete_cmd_prefix": "rm(",
     "library": "var_list.r",
     "varRefreshCmd": "cat(var_dic_list()) "
    }
   },
   "types_to_exclude": [
    "module",
    "function",
    "builtin_function_or_method",
    "instance",
    "_Feature"
   ],
   "window_display": false
  }
 },
 "nbformat": 4,
 "nbformat_minor": 2
}
